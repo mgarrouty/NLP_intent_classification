{
 "cells": [
  {
   "cell_type": "markdown",
   "id": "e9b4bbe8",
   "metadata": {},
   "source": [
    "# NLP Project : Emotion Detection in Dialogues\n",
    "## I - Collecting Data\n",
    "## II - Baseline Model (Bert Encoding)\n",
    "## III - Bidirectionnal LTSM model\n",
    "## IV - Adding Self-Attention mechanism"
   ]
  },
  {
   "cell_type": "code",
   "execution_count": 50,
   "id": "1077658c",
   "metadata": {},
   "outputs": [],
   "source": [
    "import torch\n",
    "from datasets import load_dataset\n",
    "from tqdm import tqdm\n",
    "import nltk\n",
    "from gensim.models.phrases import Phrases, Phraser\n",
    "from nltk.tokenize import TreebankWordTokenizer, TweetTokenizer\n",
    "import pandas as pd\n",
    "from termcolor import colored\n",
    "from collections import Counter\n",
    "from torchtext.vocab import GloVe, vocab, FastText\n",
    "from nltk.tokenize import TweetTokenizer\n",
    "from tqdm.auto import tqdm\n",
    "tok = TweetTokenizer()\n",
    "from torch.utils.data import Dataset\n",
    "from torch.utils.data import DataLoader\n",
    "from torchinfo import summary\n",
    "import numpy as np\n",
    "import os\n",
    "import torch\n",
    "from torch import nn\n",
    "import torch.nn.functional as F\n",
    "from torchvision import transforms\n",
    "from torchvision.datasets import MNIST\n",
    "from torch.utils.data import DataLoader\n",
    "import pytorch_lightning as pl\n",
    "import torch.optim as optim\n",
    "from sklearn.metrics import classification_report, confusion_matrix, roc_curve, auc, RocCurveDisplay \n",
    "import matplotlib.pyplot as plt\n",
    "import datasets\n",
    "from transformers import AutoTokenizer\n",
    "from transformers import AutoModelForSequenceClassification\n",
    "from torch.optim import AdamW\n",
    "\n",
    "from transformers import get_scheduler"
   ]
  },
  {
   "cell_type": "markdown",
   "id": "fdfe87ad",
   "metadata": {},
   "source": [
    "## I - Collecting Data"
   ]
  },
  {
   "cell_type": "code",
   "execution_count": 58,
   "id": "3aed0b68",
   "metadata": {},
   "outputs": [
    {
     "name": "stderr",
     "output_type": "stream",
     "text": [
      "Found cached dataset daily_dialog (/Users/mathieugarrouty/.cache/huggingface/datasets/daily_dialog/default/1.0.0/1d0a58c7f2a4dab5ed9d01dbde8e55e0058e589ab81fce5c2df929ea810eabcd)\n"
     ]
    },
    {
     "data": {
      "application/vnd.jupyter.widget-view+json": {
       "model_id": "a331e4b2aca546b483014b61deb5d404",
       "version_major": 2,
       "version_minor": 0
      },
      "text/plain": [
       "  0%|          | 0/3 [00:00<?, ?it/s]"
      ]
     },
     "metadata": {},
     "output_type": "display_data"
    },
    {
     "data": {
      "application/vnd.jupyter.widget-view+json": {
       "model_id": "",
       "version_major": 2,
       "version_minor": 0
      },
      "text/plain": [
       "Map:   0%|          | 0/87170 [00:00<?, ? examples/s]"
      ]
     },
     "metadata": {},
     "output_type": "display_data"
    },
    {
     "data": {
      "application/vnd.jupyter.widget-view+json": {
       "model_id": "",
       "version_major": 2,
       "version_minor": 0
      },
      "text/plain": [
       "Map:   0%|          | 0/8069 [00:00<?, ? examples/s]"
      ]
     },
     "metadata": {},
     "output_type": "display_data"
    },
    {
     "data": {
      "application/vnd.jupyter.widget-view+json": {
       "model_id": "",
       "version_major": 2,
       "version_minor": 0
      },
      "text/plain": [
       "Map:   0%|          | 0/7740 [00:00<?, ? examples/s]"
      ]
     },
     "metadata": {},
     "output_type": "display_data"
    }
   ],
   "source": [
    "dailydialog = load_dataset('daily_dialog')\n",
    "dico=dict()\n",
    "for split in ['train', 'validation', 'test']:\n",
    "    L=[]\n",
    "    for el in dailydialog[split] :\n",
    "        for i in range(len(el[\"dialog\"])) :\n",
    "            L.append({'text': el[\"dialog\"][i], \"label\" : el[\"act\"][i]})\n",
    "    dico[split]=datasets.Dataset.from_list(L)\n",
    "    \n",
    "dataset = datasets.DatasetDict()\n",
    "for split in ['train', 'validation', 'test']:\n",
    "    dataset[split]=dico[split]\n",
    "\n",
    "tokenizer = AutoTokenizer.from_pretrained(\"bert-base-cased\", use_fast=True)\n",
    "\n",
    "def tokenize_function(examples):\n",
    "    return tokenizer(examples[\"text\"], padding=\"max_length\", truncation=True)\n",
    "\n",
    "tokenized_datasets = dataset.map(tokenize_function, batched=True)\n",
    "tokenized_datasets = tokenized_datasets.remove_columns([\"text\"])\n",
    "tokenized_datasets = tokenized_datasets.rename_column(\"label\", \"labels\")\n",
    "tokenized_datasets.set_format(\"torch\")\n",
    "train_dataset = tokenized_datasets[\"train\"].shuffle(seed=42).select(range(1000))\n",
    "eval_dataset = tokenized_datasets[\"test\"].shuffle(seed=42).select(range(200))\n",
    "val_dataset = tokenized_datasets[\"validation\"].shuffle(seed=42).select(range(200))\n",
    "train_dataloader = DataLoader(train_dataset, batch_size=8)\n",
    "eval_dataloader = DataLoader(eval_dataset, batch_size=8)\n",
    "val_loader = DataLoader(val_dataset, batch_size=8)"
   ]
  },
  {
   "cell_type": "code",
   "execution_count": 65,
   "id": "6f36fde3",
   "metadata": {},
   "outputs": [
    {
     "name": "stderr",
     "output_type": "stream",
     "text": [
      "Some weights of the model checkpoint at prajjwal1/bert-tiny were not used when initializing BertForSequenceClassification: ['cls.predictions.transform.LayerNorm.weight', 'cls.seq_relationship.bias', 'cls.predictions.transform.dense.bias', 'cls.predictions.decoder.bias', 'cls.predictions.transform.LayerNorm.bias', 'cls.predictions.decoder.weight', 'cls.predictions.transform.dense.weight', 'cls.seq_relationship.weight', 'cls.predictions.bias']\n",
      "- This IS expected if you are initializing BertForSequenceClassification from the checkpoint of a model trained on another task or with another architecture (e.g. initializing a BertForSequenceClassification model from a BertForPreTraining model).\n",
      "- This IS NOT expected if you are initializing BertForSequenceClassification from the checkpoint of a model that you expect to be exactly identical (initializing a BertForSequenceClassification model from a BertForSequenceClassification model).\n",
      "Some weights of BertForSequenceClassification were not initialized from the model checkpoint at prajjwal1/bert-tiny and are newly initialized: ['classifier.bias', 'classifier.weight']\n",
      "You should probably TRAIN this model on a down-stream task to be able to use it for predictions and inference.\n"
     ]
    },
    {
     "data": {
      "application/vnd.jupyter.widget-view+json": {
       "model_id": "b209bb226b7741a88904d91d6a2fcb11",
       "version_major": 2,
       "version_minor": 0
      },
      "text/plain": [
       "  0%|          | 0/625 [00:00<?, ?it/s]"
      ]
     },
     "metadata": {},
     "output_type": "display_data"
    },
    {
     "ename": "RuntimeError",
     "evalue": "Placeholder storage has not been allocated on MPS device!",
     "output_type": "error",
     "traceback": [
      "\u001b[0;31m---------------------------------------------------------------------------\u001b[0m",
      "\u001b[0;31mRuntimeError\u001b[0m                              Traceback (most recent call last)",
      "Cell \u001b[0;32mIn[65], line 22\u001b[0m\n\u001b[1;32m     20\u001b[0m \u001b[38;5;28;01mfor\u001b[39;00m batch \u001b[38;5;129;01min\u001b[39;00m train_dataloader:\n\u001b[1;32m     21\u001b[0m     batch \u001b[38;5;241m=\u001b[39m {k: v\u001b[38;5;241m.\u001b[39mto(device) \u001b[38;5;28;01mfor\u001b[39;00m k, v \u001b[38;5;129;01min\u001b[39;00m batch\u001b[38;5;241m.\u001b[39mitems()}\n\u001b[0;32m---> 22\u001b[0m     outputs \u001b[38;5;241m=\u001b[39m \u001b[43mmodel\u001b[49m\u001b[43m(\u001b[49m\u001b[38;5;241;43m*\u001b[39;49m\u001b[38;5;241;43m*\u001b[39;49m\u001b[43mbatch\u001b[49m\u001b[43m)\u001b[49m\n\u001b[1;32m     23\u001b[0m     loss \u001b[38;5;241m=\u001b[39m outputs\u001b[38;5;241m.\u001b[39mloss\n\u001b[1;32m     24\u001b[0m     loss\u001b[38;5;241m.\u001b[39mbackward()\n",
      "File \u001b[0;32m~/miniconda3/lib/python3.10/site-packages/torch/nn/modules/module.py:1194\u001b[0m, in \u001b[0;36mModule._call_impl\u001b[0;34m(self, *input, **kwargs)\u001b[0m\n\u001b[1;32m   1190\u001b[0m \u001b[38;5;66;03m# If we don't have any hooks, we want to skip the rest of the logic in\u001b[39;00m\n\u001b[1;32m   1191\u001b[0m \u001b[38;5;66;03m# this function, and just call forward.\u001b[39;00m\n\u001b[1;32m   1192\u001b[0m \u001b[38;5;28;01mif\u001b[39;00m \u001b[38;5;129;01mnot\u001b[39;00m (\u001b[38;5;28mself\u001b[39m\u001b[38;5;241m.\u001b[39m_backward_hooks \u001b[38;5;129;01mor\u001b[39;00m \u001b[38;5;28mself\u001b[39m\u001b[38;5;241m.\u001b[39m_forward_hooks \u001b[38;5;129;01mor\u001b[39;00m \u001b[38;5;28mself\u001b[39m\u001b[38;5;241m.\u001b[39m_forward_pre_hooks \u001b[38;5;129;01mor\u001b[39;00m _global_backward_hooks\n\u001b[1;32m   1193\u001b[0m         \u001b[38;5;129;01mor\u001b[39;00m _global_forward_hooks \u001b[38;5;129;01mor\u001b[39;00m _global_forward_pre_hooks):\n\u001b[0;32m-> 1194\u001b[0m     \u001b[38;5;28;01mreturn\u001b[39;00m \u001b[43mforward_call\u001b[49m\u001b[43m(\u001b[49m\u001b[38;5;241;43m*\u001b[39;49m\u001b[38;5;28;43minput\u001b[39;49m\u001b[43m,\u001b[49m\u001b[43m \u001b[49m\u001b[38;5;241;43m*\u001b[39;49m\u001b[38;5;241;43m*\u001b[39;49m\u001b[43mkwargs\u001b[49m\u001b[43m)\u001b[49m\n\u001b[1;32m   1195\u001b[0m \u001b[38;5;66;03m# Do not call functions when jit is used\u001b[39;00m\n\u001b[1;32m   1196\u001b[0m full_backward_hooks, non_full_backward_hooks \u001b[38;5;241m=\u001b[39m [], []\n",
      "File \u001b[0;32m~/miniconda3/lib/python3.10/site-packages/transformers/models/bert/modeling_bert.py:1563\u001b[0m, in \u001b[0;36mBertForSequenceClassification.forward\u001b[0;34m(self, input_ids, attention_mask, token_type_ids, position_ids, head_mask, inputs_embeds, labels, output_attentions, output_hidden_states, return_dict)\u001b[0m\n\u001b[1;32m   1555\u001b[0m \u001b[38;5;124mr\u001b[39m\u001b[38;5;124;03m\"\"\"\u001b[39;00m\n\u001b[1;32m   1556\u001b[0m \u001b[38;5;124;03mlabels (`torch.LongTensor` of shape `(batch_size,)`, *optional*):\u001b[39;00m\n\u001b[1;32m   1557\u001b[0m \u001b[38;5;124;03m    Labels for computing the sequence classification/regression loss. Indices should be in `[0, ...,\u001b[39;00m\n\u001b[1;32m   1558\u001b[0m \u001b[38;5;124;03m    config.num_labels - 1]`. If `config.num_labels == 1` a regression loss is computed (Mean-Square loss), If\u001b[39;00m\n\u001b[1;32m   1559\u001b[0m \u001b[38;5;124;03m    `config.num_labels > 1` a classification loss is computed (Cross-Entropy).\u001b[39;00m\n\u001b[1;32m   1560\u001b[0m \u001b[38;5;124;03m\"\"\"\u001b[39;00m\n\u001b[1;32m   1561\u001b[0m return_dict \u001b[38;5;241m=\u001b[39m return_dict \u001b[38;5;28;01mif\u001b[39;00m return_dict \u001b[38;5;129;01mis\u001b[39;00m \u001b[38;5;129;01mnot\u001b[39;00m \u001b[38;5;28;01mNone\u001b[39;00m \u001b[38;5;28;01melse\u001b[39;00m \u001b[38;5;28mself\u001b[39m\u001b[38;5;241m.\u001b[39mconfig\u001b[38;5;241m.\u001b[39muse_return_dict\n\u001b[0;32m-> 1563\u001b[0m outputs \u001b[38;5;241m=\u001b[39m \u001b[38;5;28;43mself\u001b[39;49m\u001b[38;5;241;43m.\u001b[39;49m\u001b[43mbert\u001b[49m\u001b[43m(\u001b[49m\n\u001b[1;32m   1564\u001b[0m \u001b[43m    \u001b[49m\u001b[43minput_ids\u001b[49m\u001b[43m,\u001b[49m\n\u001b[1;32m   1565\u001b[0m \u001b[43m    \u001b[49m\u001b[43mattention_mask\u001b[49m\u001b[38;5;241;43m=\u001b[39;49m\u001b[43mattention_mask\u001b[49m\u001b[43m,\u001b[49m\n\u001b[1;32m   1566\u001b[0m \u001b[43m    \u001b[49m\u001b[43mtoken_type_ids\u001b[49m\u001b[38;5;241;43m=\u001b[39;49m\u001b[43mtoken_type_ids\u001b[49m\u001b[43m,\u001b[49m\n\u001b[1;32m   1567\u001b[0m \u001b[43m    \u001b[49m\u001b[43mposition_ids\u001b[49m\u001b[38;5;241;43m=\u001b[39;49m\u001b[43mposition_ids\u001b[49m\u001b[43m,\u001b[49m\n\u001b[1;32m   1568\u001b[0m \u001b[43m    \u001b[49m\u001b[43mhead_mask\u001b[49m\u001b[38;5;241;43m=\u001b[39;49m\u001b[43mhead_mask\u001b[49m\u001b[43m,\u001b[49m\n\u001b[1;32m   1569\u001b[0m \u001b[43m    \u001b[49m\u001b[43minputs_embeds\u001b[49m\u001b[38;5;241;43m=\u001b[39;49m\u001b[43minputs_embeds\u001b[49m\u001b[43m,\u001b[49m\n\u001b[1;32m   1570\u001b[0m \u001b[43m    \u001b[49m\u001b[43moutput_attentions\u001b[49m\u001b[38;5;241;43m=\u001b[39;49m\u001b[43moutput_attentions\u001b[49m\u001b[43m,\u001b[49m\n\u001b[1;32m   1571\u001b[0m \u001b[43m    \u001b[49m\u001b[43moutput_hidden_states\u001b[49m\u001b[38;5;241;43m=\u001b[39;49m\u001b[43moutput_hidden_states\u001b[49m\u001b[43m,\u001b[49m\n\u001b[1;32m   1572\u001b[0m \u001b[43m    \u001b[49m\u001b[43mreturn_dict\u001b[49m\u001b[38;5;241;43m=\u001b[39;49m\u001b[43mreturn_dict\u001b[49m\u001b[43m,\u001b[49m\n\u001b[1;32m   1573\u001b[0m \u001b[43m\u001b[49m\u001b[43m)\u001b[49m\n\u001b[1;32m   1575\u001b[0m pooled_output \u001b[38;5;241m=\u001b[39m outputs[\u001b[38;5;241m1\u001b[39m]\n\u001b[1;32m   1577\u001b[0m pooled_output \u001b[38;5;241m=\u001b[39m \u001b[38;5;28mself\u001b[39m\u001b[38;5;241m.\u001b[39mdropout(pooled_output)\n",
      "File \u001b[0;32m~/miniconda3/lib/python3.10/site-packages/torch/nn/modules/module.py:1194\u001b[0m, in \u001b[0;36mModule._call_impl\u001b[0;34m(self, *input, **kwargs)\u001b[0m\n\u001b[1;32m   1190\u001b[0m \u001b[38;5;66;03m# If we don't have any hooks, we want to skip the rest of the logic in\u001b[39;00m\n\u001b[1;32m   1191\u001b[0m \u001b[38;5;66;03m# this function, and just call forward.\u001b[39;00m\n\u001b[1;32m   1192\u001b[0m \u001b[38;5;28;01mif\u001b[39;00m \u001b[38;5;129;01mnot\u001b[39;00m (\u001b[38;5;28mself\u001b[39m\u001b[38;5;241m.\u001b[39m_backward_hooks \u001b[38;5;129;01mor\u001b[39;00m \u001b[38;5;28mself\u001b[39m\u001b[38;5;241m.\u001b[39m_forward_hooks \u001b[38;5;129;01mor\u001b[39;00m \u001b[38;5;28mself\u001b[39m\u001b[38;5;241m.\u001b[39m_forward_pre_hooks \u001b[38;5;129;01mor\u001b[39;00m _global_backward_hooks\n\u001b[1;32m   1193\u001b[0m         \u001b[38;5;129;01mor\u001b[39;00m _global_forward_hooks \u001b[38;5;129;01mor\u001b[39;00m _global_forward_pre_hooks):\n\u001b[0;32m-> 1194\u001b[0m     \u001b[38;5;28;01mreturn\u001b[39;00m \u001b[43mforward_call\u001b[49m\u001b[43m(\u001b[49m\u001b[38;5;241;43m*\u001b[39;49m\u001b[38;5;28;43minput\u001b[39;49m\u001b[43m,\u001b[49m\u001b[43m \u001b[49m\u001b[38;5;241;43m*\u001b[39;49m\u001b[38;5;241;43m*\u001b[39;49m\u001b[43mkwargs\u001b[49m\u001b[43m)\u001b[49m\n\u001b[1;32m   1195\u001b[0m \u001b[38;5;66;03m# Do not call functions when jit is used\u001b[39;00m\n\u001b[1;32m   1196\u001b[0m full_backward_hooks, non_full_backward_hooks \u001b[38;5;241m=\u001b[39m [], []\n",
      "File \u001b[0;32m~/miniconda3/lib/python3.10/site-packages/transformers/models/bert/modeling_bert.py:1012\u001b[0m, in \u001b[0;36mBertModel.forward\u001b[0;34m(self, input_ids, attention_mask, token_type_ids, position_ids, head_mask, inputs_embeds, encoder_hidden_states, encoder_attention_mask, past_key_values, use_cache, output_attentions, output_hidden_states, return_dict)\u001b[0m\n\u001b[1;32m   1005\u001b[0m \u001b[38;5;66;03m# Prepare head mask if needed\u001b[39;00m\n\u001b[1;32m   1006\u001b[0m \u001b[38;5;66;03m# 1.0 in head_mask indicate we keep the head\u001b[39;00m\n\u001b[1;32m   1007\u001b[0m \u001b[38;5;66;03m# attention_probs has shape bsz x n_heads x N x N\u001b[39;00m\n\u001b[1;32m   1008\u001b[0m \u001b[38;5;66;03m# input head_mask has shape [num_heads] or [num_hidden_layers x num_heads]\u001b[39;00m\n\u001b[1;32m   1009\u001b[0m \u001b[38;5;66;03m# and head_mask is converted to shape [num_hidden_layers x batch x num_heads x seq_length x seq_length]\u001b[39;00m\n\u001b[1;32m   1010\u001b[0m head_mask \u001b[38;5;241m=\u001b[39m \u001b[38;5;28mself\u001b[39m\u001b[38;5;241m.\u001b[39mget_head_mask(head_mask, \u001b[38;5;28mself\u001b[39m\u001b[38;5;241m.\u001b[39mconfig\u001b[38;5;241m.\u001b[39mnum_hidden_layers)\n\u001b[0;32m-> 1012\u001b[0m embedding_output \u001b[38;5;241m=\u001b[39m \u001b[38;5;28;43mself\u001b[39;49m\u001b[38;5;241;43m.\u001b[39;49m\u001b[43membeddings\u001b[49m\u001b[43m(\u001b[49m\n\u001b[1;32m   1013\u001b[0m \u001b[43m    \u001b[49m\u001b[43minput_ids\u001b[49m\u001b[38;5;241;43m=\u001b[39;49m\u001b[43minput_ids\u001b[49m\u001b[43m,\u001b[49m\n\u001b[1;32m   1014\u001b[0m \u001b[43m    \u001b[49m\u001b[43mposition_ids\u001b[49m\u001b[38;5;241;43m=\u001b[39;49m\u001b[43mposition_ids\u001b[49m\u001b[43m,\u001b[49m\n\u001b[1;32m   1015\u001b[0m \u001b[43m    \u001b[49m\u001b[43mtoken_type_ids\u001b[49m\u001b[38;5;241;43m=\u001b[39;49m\u001b[43mtoken_type_ids\u001b[49m\u001b[43m,\u001b[49m\n\u001b[1;32m   1016\u001b[0m \u001b[43m    \u001b[49m\u001b[43minputs_embeds\u001b[49m\u001b[38;5;241;43m=\u001b[39;49m\u001b[43minputs_embeds\u001b[49m\u001b[43m,\u001b[49m\n\u001b[1;32m   1017\u001b[0m \u001b[43m    \u001b[49m\u001b[43mpast_key_values_length\u001b[49m\u001b[38;5;241;43m=\u001b[39;49m\u001b[43mpast_key_values_length\u001b[49m\u001b[43m,\u001b[49m\n\u001b[1;32m   1018\u001b[0m \u001b[43m\u001b[49m\u001b[43m)\u001b[49m\n\u001b[1;32m   1019\u001b[0m encoder_outputs \u001b[38;5;241m=\u001b[39m \u001b[38;5;28mself\u001b[39m\u001b[38;5;241m.\u001b[39mencoder(\n\u001b[1;32m   1020\u001b[0m     embedding_output,\n\u001b[1;32m   1021\u001b[0m     attention_mask\u001b[38;5;241m=\u001b[39mextended_attention_mask,\n\u001b[0;32m   (...)\u001b[0m\n\u001b[1;32m   1029\u001b[0m     return_dict\u001b[38;5;241m=\u001b[39mreturn_dict,\n\u001b[1;32m   1030\u001b[0m )\n\u001b[1;32m   1031\u001b[0m sequence_output \u001b[38;5;241m=\u001b[39m encoder_outputs[\u001b[38;5;241m0\u001b[39m]\n",
      "File \u001b[0;32m~/miniconda3/lib/python3.10/site-packages/torch/nn/modules/module.py:1194\u001b[0m, in \u001b[0;36mModule._call_impl\u001b[0;34m(self, *input, **kwargs)\u001b[0m\n\u001b[1;32m   1190\u001b[0m \u001b[38;5;66;03m# If we don't have any hooks, we want to skip the rest of the logic in\u001b[39;00m\n\u001b[1;32m   1191\u001b[0m \u001b[38;5;66;03m# this function, and just call forward.\u001b[39;00m\n\u001b[1;32m   1192\u001b[0m \u001b[38;5;28;01mif\u001b[39;00m \u001b[38;5;129;01mnot\u001b[39;00m (\u001b[38;5;28mself\u001b[39m\u001b[38;5;241m.\u001b[39m_backward_hooks \u001b[38;5;129;01mor\u001b[39;00m \u001b[38;5;28mself\u001b[39m\u001b[38;5;241m.\u001b[39m_forward_hooks \u001b[38;5;129;01mor\u001b[39;00m \u001b[38;5;28mself\u001b[39m\u001b[38;5;241m.\u001b[39m_forward_pre_hooks \u001b[38;5;129;01mor\u001b[39;00m _global_backward_hooks\n\u001b[1;32m   1193\u001b[0m         \u001b[38;5;129;01mor\u001b[39;00m _global_forward_hooks \u001b[38;5;129;01mor\u001b[39;00m _global_forward_pre_hooks):\n\u001b[0;32m-> 1194\u001b[0m     \u001b[38;5;28;01mreturn\u001b[39;00m \u001b[43mforward_call\u001b[49m\u001b[43m(\u001b[49m\u001b[38;5;241;43m*\u001b[39;49m\u001b[38;5;28;43minput\u001b[39;49m\u001b[43m,\u001b[49m\u001b[43m \u001b[49m\u001b[38;5;241;43m*\u001b[39;49m\u001b[38;5;241;43m*\u001b[39;49m\u001b[43mkwargs\u001b[49m\u001b[43m)\u001b[49m\n\u001b[1;32m   1195\u001b[0m \u001b[38;5;66;03m# Do not call functions when jit is used\u001b[39;00m\n\u001b[1;32m   1196\u001b[0m full_backward_hooks, non_full_backward_hooks \u001b[38;5;241m=\u001b[39m [], []\n",
      "File \u001b[0;32m~/miniconda3/lib/python3.10/site-packages/transformers/models/bert/modeling_bert.py:230\u001b[0m, in \u001b[0;36mBertEmbeddings.forward\u001b[0;34m(self, input_ids, token_type_ids, position_ids, inputs_embeds, past_key_values_length)\u001b[0m\n\u001b[1;32m    227\u001b[0m         token_type_ids \u001b[38;5;241m=\u001b[39m torch\u001b[38;5;241m.\u001b[39mzeros(input_shape, dtype\u001b[38;5;241m=\u001b[39mtorch\u001b[38;5;241m.\u001b[39mlong, device\u001b[38;5;241m=\u001b[39m\u001b[38;5;28mself\u001b[39m\u001b[38;5;241m.\u001b[39mposition_ids\u001b[38;5;241m.\u001b[39mdevice)\n\u001b[1;32m    229\u001b[0m \u001b[38;5;28;01mif\u001b[39;00m inputs_embeds \u001b[38;5;129;01mis\u001b[39;00m \u001b[38;5;28;01mNone\u001b[39;00m:\n\u001b[0;32m--> 230\u001b[0m     inputs_embeds \u001b[38;5;241m=\u001b[39m \u001b[38;5;28;43mself\u001b[39;49m\u001b[38;5;241;43m.\u001b[39;49m\u001b[43mword_embeddings\u001b[49m\u001b[43m(\u001b[49m\u001b[43minput_ids\u001b[49m\u001b[43m)\u001b[49m\n\u001b[1;32m    231\u001b[0m token_type_embeddings \u001b[38;5;241m=\u001b[39m \u001b[38;5;28mself\u001b[39m\u001b[38;5;241m.\u001b[39mtoken_type_embeddings(token_type_ids)\n\u001b[1;32m    233\u001b[0m embeddings \u001b[38;5;241m=\u001b[39m inputs_embeds \u001b[38;5;241m+\u001b[39m token_type_embeddings\n",
      "File \u001b[0;32m~/miniconda3/lib/python3.10/site-packages/torch/nn/modules/module.py:1194\u001b[0m, in \u001b[0;36mModule._call_impl\u001b[0;34m(self, *input, **kwargs)\u001b[0m\n\u001b[1;32m   1190\u001b[0m \u001b[38;5;66;03m# If we don't have any hooks, we want to skip the rest of the logic in\u001b[39;00m\n\u001b[1;32m   1191\u001b[0m \u001b[38;5;66;03m# this function, and just call forward.\u001b[39;00m\n\u001b[1;32m   1192\u001b[0m \u001b[38;5;28;01mif\u001b[39;00m \u001b[38;5;129;01mnot\u001b[39;00m (\u001b[38;5;28mself\u001b[39m\u001b[38;5;241m.\u001b[39m_backward_hooks \u001b[38;5;129;01mor\u001b[39;00m \u001b[38;5;28mself\u001b[39m\u001b[38;5;241m.\u001b[39m_forward_hooks \u001b[38;5;129;01mor\u001b[39;00m \u001b[38;5;28mself\u001b[39m\u001b[38;5;241m.\u001b[39m_forward_pre_hooks \u001b[38;5;129;01mor\u001b[39;00m _global_backward_hooks\n\u001b[1;32m   1193\u001b[0m         \u001b[38;5;129;01mor\u001b[39;00m _global_forward_hooks \u001b[38;5;129;01mor\u001b[39;00m _global_forward_pre_hooks):\n\u001b[0;32m-> 1194\u001b[0m     \u001b[38;5;28;01mreturn\u001b[39;00m \u001b[43mforward_call\u001b[49m\u001b[43m(\u001b[49m\u001b[38;5;241;43m*\u001b[39;49m\u001b[38;5;28;43minput\u001b[39;49m\u001b[43m,\u001b[49m\u001b[43m \u001b[49m\u001b[38;5;241;43m*\u001b[39;49m\u001b[38;5;241;43m*\u001b[39;49m\u001b[43mkwargs\u001b[49m\u001b[43m)\u001b[49m\n\u001b[1;32m   1195\u001b[0m \u001b[38;5;66;03m# Do not call functions when jit is used\u001b[39;00m\n\u001b[1;32m   1196\u001b[0m full_backward_hooks, non_full_backward_hooks \u001b[38;5;241m=\u001b[39m [], []\n",
      "File \u001b[0;32m~/miniconda3/lib/python3.10/site-packages/torch/nn/modules/sparse.py:160\u001b[0m, in \u001b[0;36mEmbedding.forward\u001b[0;34m(self, input)\u001b[0m\n\u001b[1;32m    159\u001b[0m \u001b[38;5;28;01mdef\u001b[39;00m \u001b[38;5;21mforward\u001b[39m(\u001b[38;5;28mself\u001b[39m, \u001b[38;5;28minput\u001b[39m: Tensor) \u001b[38;5;241m-\u001b[39m\u001b[38;5;241m>\u001b[39m Tensor:\n\u001b[0;32m--> 160\u001b[0m     \u001b[38;5;28;01mreturn\u001b[39;00m \u001b[43mF\u001b[49m\u001b[38;5;241;43m.\u001b[39;49m\u001b[43membedding\u001b[49m\u001b[43m(\u001b[49m\n\u001b[1;32m    161\u001b[0m \u001b[43m        \u001b[49m\u001b[38;5;28;43minput\u001b[39;49m\u001b[43m,\u001b[49m\u001b[43m \u001b[49m\u001b[38;5;28;43mself\u001b[39;49m\u001b[38;5;241;43m.\u001b[39;49m\u001b[43mweight\u001b[49m\u001b[43m,\u001b[49m\u001b[43m \u001b[49m\u001b[38;5;28;43mself\u001b[39;49m\u001b[38;5;241;43m.\u001b[39;49m\u001b[43mpadding_idx\u001b[49m\u001b[43m,\u001b[49m\u001b[43m \u001b[49m\u001b[38;5;28;43mself\u001b[39;49m\u001b[38;5;241;43m.\u001b[39;49m\u001b[43mmax_norm\u001b[49m\u001b[43m,\u001b[49m\n\u001b[1;32m    162\u001b[0m \u001b[43m        \u001b[49m\u001b[38;5;28;43mself\u001b[39;49m\u001b[38;5;241;43m.\u001b[39;49m\u001b[43mnorm_type\u001b[49m\u001b[43m,\u001b[49m\u001b[43m \u001b[49m\u001b[38;5;28;43mself\u001b[39;49m\u001b[38;5;241;43m.\u001b[39;49m\u001b[43mscale_grad_by_freq\u001b[49m\u001b[43m,\u001b[49m\u001b[43m \u001b[49m\u001b[38;5;28;43mself\u001b[39;49m\u001b[38;5;241;43m.\u001b[39;49m\u001b[43msparse\u001b[49m\u001b[43m)\u001b[49m\n",
      "File \u001b[0;32m~/miniconda3/lib/python3.10/site-packages/torch/nn/functional.py:2210\u001b[0m, in \u001b[0;36membedding\u001b[0;34m(input, weight, padding_idx, max_norm, norm_type, scale_grad_by_freq, sparse)\u001b[0m\n\u001b[1;32m   2204\u001b[0m     \u001b[38;5;66;03m# Note [embedding_renorm set_grad_enabled]\u001b[39;00m\n\u001b[1;32m   2205\u001b[0m     \u001b[38;5;66;03m# XXX: equivalent to\u001b[39;00m\n\u001b[1;32m   2206\u001b[0m     \u001b[38;5;66;03m# with torch.no_grad():\u001b[39;00m\n\u001b[1;32m   2207\u001b[0m     \u001b[38;5;66;03m#   torch.embedding_renorm_\u001b[39;00m\n\u001b[1;32m   2208\u001b[0m     \u001b[38;5;66;03m# remove once script supports set_grad_enabled\u001b[39;00m\n\u001b[1;32m   2209\u001b[0m     _no_grad_embedding_renorm_(weight, \u001b[38;5;28minput\u001b[39m, max_norm, norm_type)\n\u001b[0;32m-> 2210\u001b[0m \u001b[38;5;28;01mreturn\u001b[39;00m \u001b[43mtorch\u001b[49m\u001b[38;5;241;43m.\u001b[39;49m\u001b[43membedding\u001b[49m\u001b[43m(\u001b[49m\u001b[43mweight\u001b[49m\u001b[43m,\u001b[49m\u001b[43m \u001b[49m\u001b[38;5;28;43minput\u001b[39;49m\u001b[43m,\u001b[49m\u001b[43m \u001b[49m\u001b[43mpadding_idx\u001b[49m\u001b[43m,\u001b[49m\u001b[43m \u001b[49m\u001b[43mscale_grad_by_freq\u001b[49m\u001b[43m,\u001b[49m\u001b[43m \u001b[49m\u001b[43msparse\u001b[49m\u001b[43m)\u001b[49m\n",
      "\u001b[0;31mRuntimeError\u001b[0m: Placeholder storage has not been allocated on MPS device!"
     ]
    }
   ],
   "source": [
    "args.update({'max_eps': 5, 'lr': 0.0001, 'device': \"mps\", 'num_class': 5})\n",
    "\n",
    "# This model is equal to BERT + a linear layer for classification. In our custom model we designed a FastText + a hidden layer and linear layer for classification\n",
    "model = AutoModelForSequenceClassification.from_pretrained(\"prajjwal1/bert-tiny\", num_labels=args[\"num_class\"])\n",
    "optimizer = AdamW(model.parameters(), lr=args[\"lr\"])\n",
    "\n",
    "device=args[\"device\"]\n",
    "num_epochs = args[\"max_eps\"]\n",
    "num_training_steps = num_epochs * len(train_dataloader)\n",
    "lr_scheduler = get_scheduler(\n",
    "    name=\"linear\", optimizer=optimizer, num_warmup_steps=0, num_training_steps=num_training_steps\n",
    ")\n",
    "\n",
    "\n",
    "\n",
    "progress_bar = tqdm(range(num_training_steps))\n",
    "\n",
    "model.train()\n",
    "for epoch in range(num_epochs):\n",
    "    for batch in train_dataloader:\n",
    "        batch = {k: v.to(device) for k, v in batch.items()}\n",
    "        outputs = model(**batch)\n",
    "        loss = outputs.loss\n",
    "        loss.backward()\n",
    "\n",
    "        optimizer.step()\n",
    "        lr_scheduler.step()\n",
    "        optimizer.zero_grad()\n",
    "        progress_bar.update(1)"
   ]
  },
  {
   "cell_type": "code",
   "execution_count": 60,
   "id": "95814ad2",
   "metadata": {},
   "outputs": [
    {
     "data": {
      "application/vnd.jupyter.widget-view+json": {
       "model_id": "29ee65b2ed774fca87b3a0daacbcd6f3",
       "version_major": 2,
       "version_minor": 0
      },
      "text/plain": [
       "evaluating:   0%|          | 0/25 [00:00<?, ?it/s]"
      ]
     },
     "metadata": {},
     "output_type": "display_data"
    },
    {
     "data": {
      "text/plain": [
       "{'accuracy': 0.675}"
      ]
     },
     "execution_count": 60,
     "metadata": {},
     "output_type": "execute_result"
    }
   ],
   "source": [
    "from datasets import load_metric\n",
    "metric = load_metric(\"accuracy\")\n",
    "model.eval()\n",
    "preds, trues = [], []\n",
    "for i, batch in tqdm(enumerate(eval_dataloader), desc=\"evaluating\", total=eval_dataloader.__len__()):\n",
    "    batch = {k: v.to(device) for k, v in batch.items()}\n",
    "    with torch.no_grad():\n",
    "        outputs = model(**batch)\n",
    "\n",
    "    logits = outputs.logits\n",
    "    predictions = torch.argmax(logits, dim=-1)\n",
    "    metric.add_batch(predictions=predictions, references=batch[\"labels\"])\n",
    "\n",
    "    _, tag_seq  = torch.max(logits, 1)\n",
    "    preds.extend(tag_seq.cpu().detach().tolist())\n",
    "    trues.extend(batch['labels'].cpu().detach().tolist())\n",
    "\n",
    "metric.compute()"
   ]
  },
  {
   "cell_type": "code",
   "execution_count": 62,
   "id": "203130f1",
   "metadata": {},
   "outputs": [
    {
     "name": "stdout",
     "output_type": "stream",
     "text": [
      "              precision    recall  f1-score   support\n",
      "\n",
      "      inform       0.64      0.95      0.76       100\n",
      "    question       0.78      0.78      0.78        51\n",
      "   directive       0.00      0.00      0.00        36\n",
      "  commissive       0.00      0.00      0.00        13\n",
      "\n",
      "    accuracy                           0.68       200\n",
      "   macro avg       0.36      0.43      0.39       200\n",
      "weighted avg       0.52      0.68      0.58       200\n",
      "\n"
     ]
    },
    {
     "name": "stderr",
     "output_type": "stream",
     "text": [
      "/Users/mathieugarrouty/miniconda3/lib/python3.10/site-packages/sklearn/metrics/_classification.py:1344: UndefinedMetricWarning: Precision and F-score are ill-defined and being set to 0.0 in labels with no predicted samples. Use `zero_division` parameter to control this behavior.\n",
      "  _warn_prf(average, modifier, msg_start, len(result))\n",
      "/Users/mathieugarrouty/miniconda3/lib/python3.10/site-packages/sklearn/metrics/_classification.py:1344: UndefinedMetricWarning: Precision and F-score are ill-defined and being set to 0.0 in labels with no predicted samples. Use `zero_division` parameter to control this behavior.\n",
      "  _warn_prf(average, modifier, msg_start, len(result))\n",
      "/Users/mathieugarrouty/miniconda3/lib/python3.10/site-packages/sklearn/metrics/_classification.py:1344: UndefinedMetricWarning: Precision and F-score are ill-defined and being set to 0.0 in labels with no predicted samples. Use `zero_division` parameter to control this behavior.\n",
      "  _warn_prf(average, modifier, msg_start, len(result))\n"
     ]
    }
   ],
   "source": [
    "names = [ 'inform', 'question', 'directive', 'commissive']\n",
    "from sklearn.metrics import classification_report, confusion_matrix, roc_curve, auc, RocCurveDisplay \n",
    "print(classification_report(np.array(trues), np.array(preds), target_names=names, labels=[1, 2, 3, 4]))"
   ]
  },
  {
   "cell_type": "code",
   "execution_count": 66,
   "id": "7161fd72",
   "metadata": {},
   "outputs": [
    {
     "name": "stdout",
     "output_type": "stream",
     "text": [
      "true 3 predicted 1 \u001b[31mMistake\u001b[0m\n",
      "true 1 predicted 1 \u001b[32mCorrect\u001b[0m\n",
      "true 1 predicted 1 \u001b[32mCorrect\u001b[0m\n",
      "true 1 predicted 1 \u001b[32mCorrect\u001b[0m\n",
      "true 1 predicted 1 \u001b[32mCorrect\u001b[0m\n",
      "true 3 predicted 1 \u001b[31mMistake\u001b[0m\n",
      "true 1 predicted 1 \u001b[32mCorrect\u001b[0m\n",
      "true 1 predicted 1 \u001b[32mCorrect\u001b[0m\n",
      "true 1 predicted 1 \u001b[32mCorrect\u001b[0m\n",
      "true 2 predicted 1 \u001b[31mMistake\u001b[0m\n"
     ]
    }
   ],
   "source": [
    "for t, p in zip(trues[:10], preds[:10]):\n",
    "  correct = colored('Correct', 'green') if t == p else colored('Mistake', 'red')\n",
    "  print('true', t, 'predicted', p, correct)"
   ]
  },
  {
   "cell_type": "code",
   "execution_count": 6,
   "id": "0f57272a",
   "metadata": {},
   "outputs": [
    {
     "name": "stderr",
     "output_type": "stream",
     "text": [
      "Found cached dataset daily_dialog (/Users/mathieugarrouty/.cache/huggingface/datasets/daily_dialog/default/1.0.0/1d0a58c7f2a4dab5ed9d01dbde8e55e0058e589ab81fce5c2df929ea810eabcd)\n"
     ]
    },
    {
     "data": {
      "application/vnd.jupyter.widget-view+json": {
       "model_id": "a763f776d20e4d0e9cd7dfef959221de",
       "version_major": 2,
       "version_minor": 0
      },
      "text/plain": [
       "  0%|          | 0/3 [00:00<?, ?it/s]"
      ]
     },
     "metadata": {},
     "output_type": "display_data"
    },
    {
     "name": "stderr",
     "output_type": "stream",
     "text": [
      "Loading cached processed dataset at /Users/mathieugarrouty/.cache/huggingface/datasets/daily_dialog/default/1.0.0/1d0a58c7f2a4dab5ed9d01dbde8e55e0058e589ab81fce5c2df929ea810eabcd/cache-21a876f7e95bccd1.arrow\n",
      "Loading cached processed dataset at /Users/mathieugarrouty/.cache/huggingface/datasets/daily_dialog/default/1.0.0/1d0a58c7f2a4dab5ed9d01dbde8e55e0058e589ab81fce5c2df929ea810eabcd/cache-0b0464fc3c4b6025.arrow\n",
      "Loading cached processed dataset at /Users/mathieugarrouty/.cache/huggingface/datasets/daily_dialog/default/1.0.0/1d0a58c7f2a4dab5ed9d01dbde8e55e0058e589ab81fce5c2df929ea810eabcd/cache-6c8d81b726aec4fc.arrow\n"
     ]
    }
   ],
   "source": [
    "dailydialog = load_dataset('daily_dialog')\n",
    "\n",
    "pretrained_vectors = FastText(language='en')\n",
    "pretrained_vocab = vocab(pretrained_vectors.stoi)\n",
    "unk_token = \"<unk>\"\n",
    "unk_index = 0\n",
    "pad_token = '<pad>'\n",
    "pad_index = 1\n",
    "pretrained_vocab.insert_token(\"<unk>\",unk_index)\n",
    "pretrained_vocab.insert_token(\"<pad>\", pad_index)\n",
    "#this is necessary otherwise it will throw runtime error if OOV token is queried \n",
    "pretrained_vocab.set_default_index(unk_index)\n",
    "pretrained_embeddings = pretrained_vectors.vectors\n",
    "pretrained_embeddings = torch.cat((torch.zeros(1,pretrained_embeddings.shape[1]),pretrained_embeddings))\n",
    "pretrained_embeddings.size()\n",
    "\n",
    "def tokenize_pad_numericalize_dialog(entry, vocab_stoi, max_length=20):\n",
    "  ''' message level '''\n",
    "  dialog = [ [ vocab_stoi[token] if token in vocab_stoi else vocab_stoi['<unk>'] for token in tok.tokenize(e.lower()) ] \n",
    "          for e in entry ]\n",
    "  padded_dialog = list()\n",
    "  for d in dialog:\n",
    "    if len(d) < max_length:    padded_dialog.append( d + [ vocab_stoi['<pad>'] for i in range(len(d), max_length) ] )\n",
    "    elif len(d) > max_length:  padded_dialog.append(d[:max_length])\n",
    "    else:                      padded_dialog.append(d) \n",
    "  return padded_dialog\n",
    "\n",
    "def tokenize_all_dialog(entries, vocab_stoi, max_message_length=20, max_dialog_length=12):\n",
    "  ''' dialog level '''\n",
    "  pad_message = [ vocab_stoi['<pad>'] ]\n",
    "  pad_label = [0] # because 0 means dummy in dialog acts mapping\n",
    "  res_dialog, res_labels = [], []\n",
    "\n",
    "  for entry in entries['dialog']:\n",
    "    text  = tokenize_pad_numericalize_dialog(entry, vocab_stoi)\n",
    "    if len(text) < max_dialog_length:    text = text + [ [vocab_stoi['<pad>']] * max_message_length for i in range(len(text), max_dialog_length)]   # pad_message * (max_dialog_length - len(text))\n",
    "    elif len(text) > max_dialog_length:  text = text[-max_dialog_length:] # keeps the last n messages\n",
    "    res_dialog.append(text)\n",
    "\n",
    "  for labels in entries['act']:\n",
    "    if len(labels) < max_dialog_length:   labels = labels + [ 0 for i in range(len(labels), max_dialog_length) ]          # pad_label * (max_dialog_length - len(labels))\n",
    "    elif len(labels) > max_dialog_length: labels = labels[-max_dialog_length:]\n",
    "    res_labels.append(labels)\n",
    "\n",
    "  res = {'text': res_dialog, 'label': res_labels}\n",
    "  return res\n",
    "\n",
    "vocab_stoi = pretrained_vocab.get_stoi()\n",
    "\n",
    "for split in ['train', 'validation', 'test']:\n",
    "  dailydialog[split] = dailydialog[split].map(lambda e: tokenize_all_dialog(e, vocab_stoi), batched=True)"
   ]
  },
  {
   "cell_type": "markdown",
   "id": "902e2d74",
   "metadata": {},
   "source": [
    "## II - Baseline Model"
   ]
  },
  {
   "cell_type": "code",
   "execution_count": 9,
   "id": "4435cca3",
   "metadata": {},
   "outputs": [],
   "source": [
    "#Prepare dataloader\n",
    "class BDataset(Dataset):\n",
    "    def __init__(self, data, args):\n",
    "      # args is a dict, a nice way to share the global arguments (even accross multiple files)\n",
    "      self.args = args\n",
    "      self.data = data\n",
    "\n",
    "    def __len__(self):\n",
    "      return len(self.data)\n",
    "    \n",
    "    def __getitem__(self, idx):\n",
    "      # idx is the row index\n",
    "      # text and labels should be numpy arrays\n",
    "      item = {\n",
    "          \"text\": np.array(self.data[idx]['text']),\n",
    "          \"label\": np.array(self.data[idx]['label'])\n",
    "      }\n",
    "      return item\n",
    "    \n",
    "args = {'bsize': 64}\n",
    "\n",
    "#We define new datasets \n",
    "dico=dict()\n",
    "for split in ['train', 'validation', 'test']:\n",
    "    L=[]\n",
    "    for el in dailydialog[split] :\n",
    "        for i in range(len(el[\"text\"])) :\n",
    "            L.append({'text': el[\"text\"][i], \"label\" : el[\"label\"][i]})\n",
    "    dico[split]=datasets.Dataset.from_list(L)\n",
    "    \n",
    "\n",
    "train_loader = DataLoader(BDataset(dico['train'],args), batch_size=args[\"bsize\"] , shuffle=True, drop_last=True)\n",
    "val_loader = DataLoader(BDataset(dico['validation'],args), batch_size=args[\"bsize\"] , shuffle=True, drop_last=True)\n",
    "test_loader = DataLoader(BDataset(dico['test'],args), batch_size=args[\"bsize\"] , shuffle=True, drop_last=True)"
   ]
  },
  {
   "cell_type": "code",
   "execution_count": 307,
   "id": "2f0320ce",
   "metadata": {
    "scrolled": true
   },
   "outputs": [
    {
     "name": "stdout",
     "output_type": "stream",
     "text": [
      "Counter({0: 4598, 1: 3417, 2: 2066, 3: 1216, 4: 703})\n"
     ]
    }
   ],
   "source": [
    "print(Counter(dico['test']['label']) )"
   ]
  },
  {
   "cell_type": "markdown",
   "id": "d7b9ab5f",
   "metadata": {},
   "source": [
    "### II.2 Defining Model"
   ]
  },
  {
   "cell_type": "code",
   "execution_count": 425,
   "id": "dbbd6b42",
   "metadata": {},
   "outputs": [],
   "source": [
    "class BaselineModel(torch.nn.Module):\n",
    "    def __init__(self, input_dim, hidden_dim, output_dim, pretrained_vectors=None):\n",
    "        \"\"\"\n",
    "        In the constructor we instantiate two nn.Linear modules and assign them as\n",
    "        member variables.\n",
    "        \"\"\"\n",
    "        super(BaselineModel, self).__init__()\n",
    "        self.ebd = torch.nn.Embedding.from_pretrained(pretrained_vectors, freeze=True)\n",
    "        self.hidden_linear_layer = torch.nn.Linear(hidden_dim, hidden_dim, bias=True)\n",
    "        self.classification_layer = torch.nn.Linear(hidden_dim, output_dim, bias=True)\n",
    "        self.softmax = torch.nn.Softmax()\n",
    "\n",
    "    def forward(self, x):\n",
    "        \"\"\"\n",
    "        In the forward function we accept a Tensor of input data and we must return\n",
    "        a Tensor of output data. We can use Modules defined in the constructor as\n",
    "        well as arbitrary operators on Tensors.\n",
    "        \"\"\"\n",
    "        x  = self.ebd(x)\n",
    "        x = torch.mean(x,1)\n",
    "        h  = torch.relu(self.hidden_linear_layer(x))\n",
    "        h  = self.classification_layer(h)\n",
    "        \n",
    "        # apply the softmax layer\n",
    "        logits = self.softmax(h)\n",
    "        return logits \n",
    "\n",
    "\n",
    "def train(model, optimizer, ep, args):\n",
    "  # set the model into a training mode : the model's weights and parameters WILL BE updated!\n",
    "  model.train()\n",
    "  # initialize empty lists for losses and accuracies\n",
    "  loss_it, acc_it = list(), list()\n",
    "\n",
    "  # start the loop over all the training batches. This means one full epoch.\n",
    "  for it, batch in tqdm(enumerate(train_loader), desc=\"Epoch %s:\" % (ep), total=train_loader.__len__()):\n",
    "    \n",
    "    batch = {'text': batch['text'].to(device), 'label': batch['label'].to(device)}\n",
    "\n",
    "    # put parameters of the model and the optimizer to zero before doing another iteration. this prevents the gradient accumulation through batches\n",
    "    optimizer.zero_grad()\n",
    "\n",
    "    # apply the model on the batch\n",
    "    logits = model(batch['text'])\n",
    "\n",
    "    # # # to deal with unbalanced data in the batch, we calculate the weights according to their inverse frequency\n",
    "    b_counter = Counter(batch['label'].detach().cpu().tolist())\n",
    "    b_weights = torch.tensor( [ sum(batch['label'].detach().cpu().tolist()) / b_counter[label] if b_counter[label] > 0 else 0 for label in list(range(args['num_class'])) ] )\n",
    "    b_weights = b_weights.to(device)\n",
    "\n",
    "    # we choose the CrossEntropyLoss, suitable for multiclass classification\n",
    "    loss_function = nn.CrossEntropyLoss(weight=b_weights)\n",
    "    # loss_function = nn.CrossEntropyLoss()\n",
    "    loss = loss_function(logits, batch['label'])\n",
    "\n",
    "    # compute backpropagation\n",
    "    loss.backward()\n",
    "\n",
    "    # indicate to the optimizer we've done a step\n",
    "    optimizer.step()\n",
    "\n",
    "    # append the value of the loss for the current iteration (it). .item() retrieve the nuclear value as a int/long\n",
    "    loss_it.append(loss.item())\n",
    "\n",
    "    # get the predicted tags using the maximum probability from the softmax\n",
    "    _, tag_seq  = torch.max(logits, 1)\n",
    "    \n",
    "    # Those 3 lines compute the accuracy and then append it the same way as the loss above\n",
    "    correct = (tag_seq.flatten() == batch['label'].flatten()).float().sum()\n",
    "    acc = correct / batch['label'].flatten().size(0)\n",
    "    acc_it.append(acc.item())\n",
    "\n",
    "  # simple averages of losses and accuracies for this epoch\n",
    "  loss_it_avg = sum(loss_it)/len(loss_it)\n",
    "  acc_it_avg = sum(acc_it)/len(acc_it)\n",
    "  \n",
    "  # print useful information about the training progress and scores on this training set's full pass (i.e. 1 epoch)\n",
    "  print(\"Epoch %s/%s : %s : (%s %s) (%s %s)\" % (colored(str(ep), 'blue'),args['max_eps'] , colored('Training', 'blue'), colored('loss', 'cyan'), sum(loss_it)/len(loss_it), colored('acc', 'cyan'), sum(acc_it) / len(acc_it)))\n",
    "\n",
    "    \n",
    "def inference(target, loader, model):\n",
    "  \"\"\"\n",
    "    Args:\n",
    "      target (str): modify the display, usually either 'validation' or 'test'\n",
    "  \"\"\"\n",
    "\n",
    "  # set the model into a evaluation mode : the model's weights and parameters will NOT be updated!\n",
    "  model.eval()\n",
    "\n",
    "  # intialize empty list to populate later on\n",
    "  loss_it, acc_it, f1_it = list(), list(), list()\n",
    "  # preds = predicted values ; trues = true values .... obviously~\n",
    "  preds, trues = list(), list()\n",
    "\n",
    "  # loop over the loader batches\n",
    "  for it, batch in tqdm(enumerate(loader), desc=\"%s:\" % (target), total=loader.__len__()):\n",
    "    # set an environnement without any gradient. So the tensor gradients are not considered \n",
    "    # (saves a lot of computation and memory, this is one of the many things that makes predicting far less costly than training)\n",
    "    with torch.no_grad():\n",
    "\n",
    "      # put the batch to the correct device\n",
    "        batch = {'text': batch['text'].to(device), 'label': batch['label'].to(device)}\n",
    "\n",
    "      # apply the model\n",
    "        logits = model(batch['text'])\n",
    "\n",
    "        loss_function = nn.CrossEntropyLoss()\n",
    "        loss = loss_function(logits, batch['label'])\n",
    "\n",
    "      # no need to backward() and other training stuff. Directly store the loss in the list\n",
    "        loss_it.append(loss.item())\n",
    "\n",
    "      # get the predicted tags using the maximum probability from the softmax\n",
    "        _, tag_seq  = torch.max(logits, 1)\n",
    "      \n",
    "      # compute the accuracy and store it\n",
    "        correct = (tag_seq.flatten() == batch['label'].flatten()).float().sum()\n",
    "        acc = correct / batch['label'].flatten().size(0)\n",
    "        acc_it.append(acc.item())\n",
    "\n",
    "      # extend the predictions and true labels lists so we can compare them later on\n",
    "      # note how we first ensure the tensor are on cpu (.cpu()), then we detach() the gradient from the tensor, before transforming it to a simple python list (.tolist())\n",
    "        preds.extend(tag_seq.cpu().detach().tolist())\n",
    "        trues.extend(batch['label'].cpu().detach().tolist())\n",
    "\n",
    "  # compute the average loss and accuracy accross the iterations (batches)\n",
    "    loss_it_avg = sum(loss_it)/len(loss_it)\n",
    "    acc_it_avg = sum(acc_it)/len(acc_it)\n",
    "  \n",
    "  # print useful information. Important during training as we want to know the performance over the validation set after each epoch\n",
    "    print(\"%s : (%s %s) (%s %s)\" % ( colored(target, 'blue'), colored('loss', 'cyan'), sum(loss_it)/len(loss_it), colored('acc', 'cyan'), sum(acc_it) / len(acc_it)))\n",
    "\n",
    "  # return the true and predicted values with the losses and accuracies\n",
    "    return trues, preds, loss_it_avg, acc_it_avg, loss_it, acc_it\n",
    "\n",
    "def run_epochs(model, args):\n",
    "\n",
    "  optimizer = optim.Adam(model.parameters(), lr = args['lr'])\n",
    "\n",
    "  val_ep_losses = list()\n",
    "  # iterate over the number of max epochs set in the arguments\n",
    "  for ep in range(args['max_eps']):\n",
    "    # train the model using our defined function\n",
    "    train(model, optimizer, ep, args)\n",
    "    # apply the model for inference using our defined function\n",
    "    trues, preds, val_loss_it_avg, val_acc_it_avg, val_loss_it, val_acc_it = inference(\"validation\", val_loader, model)\n",
    "    # append the validation losses (good losses should normally go down)\n",
    "    val_ep_losses.append(val_loss_it_avg)\n",
    "\n",
    "  # return the list of epoch validation losses in order to use it later to create a plot\n",
    "  return val_ep_losses\n",
    "\n",
    "sizes = next(iter(train_loader))['text'].size()\n",
    "batchsize = sizes[0]\n",
    "inputdim  = sizes[1]\n",
    "hiddendim = 300 # dimension of the pretrained vector\n",
    "outputdim = 5\n",
    "device=\"cpu\"\n",
    "args.update({'max_eps': 5, 'lr': 0.0001, 'device': device, 'num_class': 5})\n",
    "baseline_model = BaselineModel(inputdim, hiddendim, outputdim, pretrained_vectors=pretrained_vectors.vectors)"
   ]
  },
  {
   "cell_type": "markdown",
   "id": "a0a5f8ff",
   "metadata": {},
   "source": [
    "### II.3 Running Model"
   ]
  },
  {
   "cell_type": "code",
   "execution_count": 67,
   "id": "b2e66ecd",
   "metadata": {},
   "outputs": [
    {
     "ename": "NameError",
     "evalue": "name 'run_epochs' is not defined",
     "output_type": "error",
     "traceback": [
      "\u001b[0;31m---------------------------------------------------------------------------\u001b[0m",
      "\u001b[0;31mNameError\u001b[0m                                 Traceback (most recent call last)",
      "Cell \u001b[0;32mIn[67], line 1\u001b[0m\n\u001b[0;32m----> 1\u001b[0m loss_list_val \u001b[38;5;241m=\u001b[39m \u001b[43mrun_epochs\u001b[49m(baseline_model, args)\n",
      "\u001b[0;31mNameError\u001b[0m: name 'run_epochs' is not defined"
     ]
    }
   ],
   "source": [
    "loss_list_val = run_epochs(baseline_model, args)"
   ]
  },
  {
   "cell_type": "code",
   "execution_count": null,
   "id": "ba33efa1",
   "metadata": {},
   "outputs": [],
   "source": []
  },
  {
   "cell_type": "markdown",
   "id": "ec31b56d",
   "metadata": {},
   "source": [
    "### II.4 Testing model"
   ]
  },
  {
   "cell_type": "code",
   "execution_count": 415,
   "id": "40a5fb52",
   "metadata": {},
   "outputs": [
    {
     "data": {
      "image/png": "[encoded data removed]",
      "text/plain": [
       "<Figure size 640x480 with 1 Axes>"
      ]
     },
     "metadata": {},
     "output_type": "display_data"
    }
   ],
   "source": [
    "%matplotlib inline\n",
    "import matplotlib.pyplot as plt\n",
    "\n",
    "def plot_loss(loss_list):\n",
    "  '''\n",
    "  this function creates a plot. a simple curve showing the different values at each steps.\n",
    "  Here we use it to plot the loss so we named it plot_loss, but the same function with different titles could be used to plot accuracies\n",
    "  or other metrics for instance.\n",
    "  \n",
    "  Args:\n",
    "    loss_list (list of floats): list of numerical values\n",
    "  '''\n",
    "  plt.plot(range(len(loss_list)), loss_list)\n",
    "  plt.xlabel('epochs')\n",
    "  # in our model we use Softmax then NLLLoss which means Cross Entropy loss\n",
    "  plt.ylabel('Cross Entropy')\n",
    "  # in our training loop we used an Adam optimizer so we indicate it there\n",
    "  plt.title('lr: {}, optim_alg:{}'.format(args['lr'], 'Adam'))\n",
    "  # let's directly show the plot when calling this function\n",
    "  plt.show()\n",
    "\n",
    "plot_loss(loss_list_val)"
   ]
  },
  {
   "cell_type": "code",
   "execution_count": 440,
   "id": "371cec9e",
   "metadata": {},
   "outputs": [
    {
     "data": {
      "application/vnd.jupyter.widget-view+json": {
       "model_id": "19f2f4db3e034beab37f67462ad2e3f7",
       "version_major": 2,
       "version_minor": 0
      },
      "text/plain": [
       "test::   0%|          | 0/187 [00:00<?, ?it/s]"
      ]
     },
     "metadata": {},
     "output_type": "display_data"
    },
    {
     "name": "stdout",
     "output_type": "stream",
     "text": [
      "\u001b[34mtest\u001b[0m : (\u001b[36mloss\u001b[0m 1.6063250303268433) (\u001b[36macc\u001b[0m 0.40625)\n",
      "              precision    recall  f1-score   support\n",
      "\n",
      "      inform       0.33      0.14      0.20        14\n",
      "    question       0.00      0.00      0.00        15\n",
      "   directive       0.00      0.00      0.00         7\n",
      "  commissive       0.00      0.00      0.00         4\n",
      "\n",
      "   micro avg       0.33      0.05      0.09        40\n",
      "   macro avg       0.08      0.04      0.05        40\n",
      "weighted avg       0.12      0.05      0.07        40\n",
      "\n"
     ]
    },
    {
     "name": "stderr",
     "output_type": "stream",
     "text": [
      "/var/folders/5_/_p49xztn5cd1d185x6nk48g00000gn/T/ipykernel_17622/2297952344.py:25: UserWarning: Implicit dimension choice for softmax has been deprecated. Change the call to include dim=X as an argument.\n",
      "  logits = self.softmax(h)\n",
      "/Users/mathieugarrouty/miniconda3/lib/python3.10/site-packages/sklearn/metrics/_classification.py:1344: UndefinedMetricWarning: Precision and F-score are ill-defined and being set to 0.0 in labels with no predicted samples. Use `zero_division` parameter to control this behavior.\n",
      "  _warn_prf(average, modifier, msg_start, len(result))\n",
      "/Users/mathieugarrouty/miniconda3/lib/python3.10/site-packages/sklearn/metrics/_classification.py:1344: UndefinedMetricWarning: Precision and F-score are ill-defined and being set to 0.0 in labels with no predicted samples. Use `zero_division` parameter to control this behavior.\n",
      "  _warn_prf(average, modifier, msg_start, len(result))\n",
      "/Users/mathieugarrouty/miniconda3/lib/python3.10/site-packages/sklearn/metrics/_classification.py:1344: UndefinedMetricWarning: Precision and F-score are ill-defined and being set to 0.0 in labels with no predicted samples. Use `zero_division` parameter to control this behavior.\n",
      "  _warn_prf(average, modifier, msg_start, len(result))\n"
     ]
    },
    {
     "data": {
      "text/plain": [
       "<zip at 0x2af152a80>"
      ]
     },
     "execution_count": 440,
     "metadata": {},
     "output_type": "execute_result"
    }
   ],
   "source": [
    "truesb, predsb, loss_it_avgb, acc_it_avgb, loss_itb, acc_itb = inference(\"test\", test_loader, baseline_model)\n",
    "names = [ 'inform', 'question', 'directive', 'commissive']\n",
    "from sklearn.metrics import classification_report, confusion_matrix, roc_curve, auc, RocCurveDisplay \n",
    "print(classification_report(np.array(truesb), np.array(predsb), target_names=names, labels=[1, 2, 3, 4]))\n",
    "\n",
    "zip(truesb,predsb)"
   ]
  },
  {
   "cell_type": "code",
   "execution_count": 449,
   "id": "d2196cbe",
   "metadata": {},
   "outputs": [
    {
     "name": "stdout",
     "output_type": "stream",
     "text": [
      "0.05\n"
     ]
    }
   ],
   "source": [
    "total=0\n",
    "good=0\n",
    "for t, p in zip(truesb, predsb):\n",
    "    if t != 0 :\n",
    "        total+=1\n",
    "        if t==p :\n",
    "            good+=1\n",
    "print(good/total)"
   ]
  },
  {
   "cell_type": "markdown",
   "id": "f9a36b38",
   "metadata": {},
   "source": [
    "### III - Bidirectionnal LTSM Model"
   ]
  },
  {
   "cell_type": "code",
   "execution_count": 390,
   "id": "6a70f31a",
   "metadata": {},
   "outputs": [],
   "source": [
    "from torch.utils.data import Dataset\n",
    "import numpy as np\n",
    "\n",
    "class DialogActDataset(Dataset):\n",
    "    def __init__(self, data, args):\n",
    "      self.args = args\n",
    "      self.data = data\n",
    "\n",
    "    def __len__(self):\n",
    "      return len(self.data)\n",
    "    \n",
    "    def __getitem__(self, idx):\n",
    "      item = {\n",
    "          \"text\": np.array(self.data[idx]['text']),\n",
    "          \"label\": np.array(self.data[idx]['label'])\n",
    "      }\n",
    "      return item\n",
    "\n",
    "from torch.utils.data import DataLoader\n",
    "args = {'bsize': 64}\n",
    "train_loader = DataLoader(DialogActDataset(dailydialog['train'], args), batch_size=args['bsize'], num_workers=0, shuffle=True, drop_last=True)\n",
    "val_loader   = DataLoader(DialogActDataset(dailydialog['validation'], args), batch_size=args['bsize'], num_workers=0, shuffle=True, drop_last=True)\n",
    "test_loader  = DataLoader(DialogActDataset(dailydialog['test'], args), batch_size=args['bsize'], num_workers=0, shuffle=True, drop_last=True)"
   ]
  },
  {
   "cell_type": "code",
   "execution_count": 391,
   "id": "841f689c",
   "metadata": {},
   "outputs": [],
   "source": [
    "class SimpleAvgConvEBD(nn.Module):\n",
    "    '''\n",
    "        An aggregation method that encodes every document by its average word\n",
    "        embeddings.\n",
    "    '''\n",
    "    def __init__(self, ebd, args, avg_global=False):\n",
    "        super(SimpleAvgConvEBD, self).__init__()\n",
    "\n",
    "        # self.ebd = ebd\n",
    "        self.ebd = torch.nn.Embedding.from_pretrained(pretrained_vectors.vectors, freeze=True)\n",
    "\n",
    "        self.avg_global = avg_global\n",
    "\n",
    "\n",
    "    def forward(self, data):\n",
    "        '''\n",
    "            @param data dictionary\n",
    "                @key text: batch_size * max_text_len\n",
    "            @return output: batch_size * embedding_dim\n",
    "        '''\n",
    "        ebd = self.ebd(data)\n",
    "\n",
    "        # count length excluding <pad> and <unk>.\n",
    "        is_zero = (torch.sum(torch.abs(ebd), dim=3) > 1e-8).float() \n",
    "        soft_len = torch.sum(is_zero, dim=2, keepdim=True)\n",
    "\n",
    "        soft_len[soft_len < 1] = 1\n",
    "\n",
    "        # # don't need to mask out the <pad> tokens, as the embeddings are zero\n",
    "        ebd = torch.sum(ebd, dim=2) # dim = 2\n",
    "        ebd = ebd / soft_len\n",
    "\n",
    "        # avg_global allows two usages for this model\n",
    "        if self.avg_global:\n",
    "            ebd = torch.mean(ebd, 2)\n",
    "        return ebd\n",
    "    \n",
    "import torch\n",
    "# this import contains multiple CLASSES to use (hence you need to instanciate it). Usually different layer types\n",
    "import torch.nn as nn\n",
    "# this import contains multiple FUNCTIONS to use (hence no need to instanciate it)\n",
    "import torch.nn.functional as F\n",
    "\n",
    "\n",
    "# create the class by inheriting the PyTorch Module\n",
    "class BiLSTM(nn.Module):\n",
    "\n",
    "    def __init__(self, pretrained_embeddings, num_class, args, dimension=300, freeze_embeddings = False):\n",
    "        '''\n",
    "        construtor of the class (function automatically used when creating a new instance of this class)\n",
    "        '''\n",
    "        super(BiLSTM, self).__init__()\n",
    "\n",
    "        # put args as a class variable\n",
    "        self.args = args\n",
    "        # create the embedding layer from the pretrained vectors\n",
    "        self.embedding = nn.Embedding.from_pretrained(pretrained_vectors.vectors, freeze=freeze_embeddings)\n",
    "\n",
    "        # instanciate the SimpleAvgConvEBD class, dedicate to average the utterances\n",
    "        self.utterance_ebd = SimpleAvgConvEBD(None, {}, avg_global=False)\n",
    "        # put the SimpleAvgConvEBD instance into the device (cpu or gpu), depending on the arguments\n",
    "        if self.args['cuda'] != -1: self.utterance_ebd.cuda(args['cuda'])\n",
    "\n",
    "        # put dimension as a class variable\n",
    "        self.dimension = dimension\n",
    "\n",
    "        # instanciate the LSTM class from PyTorch. Dimensions are divided by 2 due to bidirectional being True\n",
    "        self.lstm = nn.LSTM(input_size=300,\n",
    "                            hidden_size=dimension//2, \n",
    "                            num_layers=3,\n",
    "                            batch_first=True,\n",
    "                            bidirectional=True)\n",
    "        # instanciate a dropout layer with 0.5. This means, we will ignore (put to zeros) half (0.5) of the data to prevent the model from overfitting\n",
    "        self.drop = nn.Dropout(p=0.5)\n",
    "\n",
    "        # instanciate a linear layer with an output size equal to the number of classes. This means this will be used to apply a criterion to compute the predictions.\n",
    "        self.hidden2tag = nn.Linear(dimension, num_class)\n",
    "\n",
    "    def forward(self, data, text_len=12):\n",
    "        '''\n",
    "        The forward function. Used to apply the model (during training or inference).\n",
    "        '''\n",
    "        # # use the function previously defined, in order to put the data values in the GPU is said so in the args\n",
    "        # data = batch_to_cuda(data, self.args['cuda'])\n",
    "        # # keep the device in a variable in order to prevent further mistakes\n",
    "        # device = data['text'].device\n",
    "\n",
    "        # use the utterance average embeddings to transform the data['text'] into a representation of conversation with a vector per utterance \n",
    "        text_emb = self.utterance_ebd(data['text'])\n",
    "\n",
    "        # apply the LSTM and retrieve the output, and the hidden vector. Hidden vector is not used afterwards. It would be useful in case of another type of LSTM for instance\n",
    "        output, hidden = self.lstm(text_emb)\n",
    "\n",
    "        # apply the dropout layer (ignore 50% of the data)\n",
    "        output = self.drop(output)\n",
    "\n",
    "        # apply the linear layer to have class logits\n",
    "        outputs = self.hidden2tag(output)\n",
    "\n",
    "        # keep some dimension infos as variable for convenience\n",
    "        batch_size = outputs.size(0)\n",
    "        seq_len = outputs.size(1)\n",
    "\n",
    "        # modify the outputs representation to prepare score computation\n",
    "        outputs = outputs.view(batch_size*seq_len, -1)\n",
    "        # apply a softmax on the outputs to obtain probabilities\n",
    "        scores = F.log_softmax(outputs, 1)\n",
    "\n",
    "        # get the predicted tags using the maximum probability from the softmax\n",
    "        _, tag_seq  = torch.max(scores, 1)\n",
    "        # reshape the predicted tags to follow the batch and sequence length\n",
    "        tag_seq = tag_seq.view(batch_size, seq_len)\n",
    "\n",
    "        # some example of manual class weights\n",
    "        # weights = torch.Tensor([0.1, 1, 1, 1, 1, 1, 1]).to(device)\n",
    "\n",
    "        \n",
    "        if 'class_weights' in self.args:\n",
    "          # class weights from args if there is any. It should be a torch tensor, but we move it to the dedicated device\n",
    "          # we use class weights to influence the Negative Log Likelihood. Influencing in the same time the backpropagation and, thus, the update of the model\n",
    "          loss_fn = nn.NLLLoss(weight=self.args['class_weights'].to(device))  \n",
    "        else: \n",
    "          # if not 'class_weights' key in the args dict(), we use the Negative Log Likelihood as is\n",
    "          loss_fn = nn.NLLLoss()\n",
    "\n",
    "        # apply the loss function (Softmax + NLLLoss = Cross Entropy)\n",
    "        loss = loss_fn(scores, data['label'].view(batch_size*seq_len))\n",
    "\n",
    "        # we return 3 elements as a tuple : the loss, the softmax outputs, and the predicted tag set already in a good format\n",
    "        return loss, scores, tag_seq"
   ]
  },
  {
   "cell_type": "code",
   "execution_count": 392,
   "id": "89a7be42",
   "metadata": {},
   "outputs": [],
   "source": [
    "def train(model, optimizer, ep, args):\n",
    "  # set the model into a training mode : the model's weights and parameters WILL BE updated!\n",
    "  model.train()\n",
    "  # initialize empty lists for losses and accuracies\n",
    "  loss_it, acc_it = list(), list()\n",
    "\n",
    "  # start the loop over all the training batches. This means one full epoch.\n",
    "  for it, batch in tqdm(enumerate(train_loader), desc=\"Epoch %s:\" % (ep), total=train_loader.__len__()):\n",
    "    \n",
    "    # put parameters of the model and the optimizer to zero before doing another iteration\n",
    "    optimizer.zero_grad()\n",
    "    model.zero_grad()\n",
    "\n",
    "    # apply the model on the batch\n",
    "    loss, logits, tag_seq = model(batch)\n",
    "    # compute gradient values\n",
    "    loss.backward()\n",
    "    # indicate to the optimizer we've done a step\n",
    "    optimizer.step()\n",
    "    # append the value of the loss for the current iteration (it). .item() retrieve the nuclear value as a int/long\n",
    "    loss_it.append(loss.item())\n",
    "    \n",
    "    # Those 3 lines compute the accuracy and then append it the same way as the loss above\n",
    "    correct = (tag_seq.flatten() == batch['label'].flatten()).float().sum()\n",
    "    acc = correct / batch['label'].flatten().size(0)\n",
    "    acc_it.append(acc.item())\n",
    "\n",
    "  # simple averages of losses and accuracies for this epoch\n",
    "  loss_it_avg = sum(loss_it)/len(loss_it)\n",
    "  acc_it_avg = sum(acc_it)/len(acc_it)\n",
    "  \n",
    "  # print useful information about the training progress and scores on this training set's full pass (i.e. 1 epoch)\n",
    "  print(\"Epoch %s/%s : %s : (%s %s) (%s %s)\" % (colored(str(ep), 'blue'),args['max_eps'] , colored('Training', 'blue'), colored('loss', 'cyan'), sum(loss_it)/len(loss_it), colored('acc', 'cyan'), sum(acc_it) / len(acc_it)))\n",
    "\n",
    "def inference(target, loader, model):\n",
    "  \"\"\"\n",
    "    Args:\n",
    "      target (str): modify the display, usually either 'validation' or 'test'\n",
    "  \"\"\"\n",
    "  # set the model into a evaluation mode : the model's weights and parameters will NOT be updated!\n",
    "  model.eval()\n",
    "\n",
    "  # intialize empty list to populate later on\n",
    "  loss_it, acc_it, f1_it = list(), list(), list()\n",
    "  # preds = predicted values ; trues = true values .... obviously~\n",
    "  preds, trues = list(), list()\n",
    "\n",
    "  # loop over the loader batches\n",
    "  for it, batch in tqdm(enumerate(loader), desc=\"%s:\" % (target), total=loader.__len__()):\n",
    "    # set an environnement without any gradient. So the tensor gradients are not considered \n",
    "    # (saves a lot of computation and memory, this is one of the many things that makes predicting far less costly than training)\n",
    "    with torch.no_grad():\n",
    "      # apply the model\n",
    "      loss, logits, tag_seq = model(batch)\n",
    "      # no need to backward() and other training stuff. Directly store the loss in the list\n",
    "      loss_it.append(loss.item())\n",
    "      \n",
    "      # compute the accuracy and store it\n",
    "      correct = (tag_seq.flatten() == batch['label'].flatten()).float().sum()\n",
    "      acc = correct / batch['label'].flatten().size(0)\n",
    "      acc_it.append(acc.item())\n",
    "      \n",
    "      # extend the predictions and true labels lists so we can compare them later on\n",
    "      # note how we first ensure the tensor are on cpu (.cpu()), then we detach() the gradient from the tensor, before transforming it to a simple python list (.tolist())\n",
    "      preds.extend(tag_seq.cpu().detach().tolist())\n",
    "      trues.extend(batch['label'].cpu().detach().tolist())\n",
    "\n",
    "  # compute the average loss and accuracy accross the iterations (batches)\n",
    "  loss_it_avg = sum(loss_it)/len(loss_it)\n",
    "  acc_it_avg = sum(acc_it)/len(acc_it)\n",
    "  \n",
    "  # print useful information. Important during training as we want to know the performance over the validation set after each epoch\n",
    "  print(\"%s : (%s %s) (%s %s)\" % ( colored(target, 'blue'), colored('loss', 'cyan'), sum(loss_it)/len(loss_it), colored('acc', 'cyan'), sum(acc_it) / len(acc_it)))\n",
    "\n",
    "  # return the true and predicted values with the losses and accuracies\n",
    "  return trues, preds, loss_it_avg, acc_it_avg, loss_it, acc_it \n",
    "\n",
    "import torch.optim as optim\n",
    "\n",
    "def run_epochs(model, args):\n",
    "\n",
    "  if args['cuda'] != -1:\n",
    "      model.cuda(args['cuda'])\n",
    "      device = torch.device(\"cuda\" if torch.cuda.is_available() else \"cpu\")\n",
    "      args['device'] = device\n",
    "      print(\"device set to %s\" % (device) )\n",
    "\n",
    "  # we set the optimizer as Adam with the learning rate (lr) set in the arguments\n",
    "  # you can look at the different optimizer available here: https://pytorch.org/docs/stable/optim.html\n",
    "  optimizer = optim.Adam(model.parameters(), lr = args['lr'])\n",
    "\n",
    "  # define an empty list to store validation losses for each epoch\n",
    "  val_ep_losses = list()\n",
    "  # iterate over the number of max epochs set in the arguments\n",
    "  for ep in range(args['max_eps']):\n",
    "    # train the model using our defined function\n",
    "    train(model, optimizer, ep, args)\n",
    "    # apply the model for inference using our defined function\n",
    "    trues, preds, val_loss_it_avg, val_acc_it_avg, val_loss_it, val_acc_it = inference(\"validation\", val_loader, model)\n",
    "    # append the validation losses (good losses should normally go down)\n",
    "    val_ep_losses.append(val_loss_it_avg)\n",
    "\n",
    "  # return the list of epoch validation losses in order to use it later to create a plot\n",
    "  return val_ep_losses"
   ]
  },
  {
   "cell_type": "code",
   "execution_count": 393,
   "id": "6a8b2744",
   "metadata": {},
   "outputs": [
    {
     "data": {
      "application/vnd.jupyter.widget-view+json": {
       "model_id": "08157c2a17b746e69a05a0ef9a8652bf",
       "version_major": 2,
       "version_minor": 0
      },
      "text/plain": [
       "Epoch 0::   0%|          | 0/173 [00:00<?, ?it/s]"
      ]
     },
     "metadata": {},
     "output_type": "display_data"
    },
    {
     "name": "stdout",
     "output_type": "stream",
     "text": [
      "Epoch \u001b[34m0\u001b[0m/10 : \u001b[34mTraining\u001b[0m : (\u001b[36mloss\u001b[0m 0.9512702026808193) (\u001b[36macc\u001b[0m 0.6036849721749394)\n"
     ]
    },
    {
     "data": {
      "application/vnd.jupyter.widget-view+json": {
       "model_id": "484d8438eee34c6296d6730b0157de2a",
       "version_major": 2,
       "version_minor": 0
      },
      "text/plain": [
       "validation::   0%|          | 0/15 [00:00<?, ?it/s]"
      ]
     },
     "metadata": {},
     "output_type": "display_data"
    },
    {
     "name": "stdout",
     "output_type": "stream",
     "text": [
      "\u001b[34mvalidation\u001b[0m : (\u001b[36mloss\u001b[0m 0.8433830857276916) (\u001b[36macc\u001b[0m 0.6019965410232544)\n"
     ]
    },
    {
     "data": {
      "application/vnd.jupyter.widget-view+json": {
       "model_id": "28e96713c23b45acbe6d4bb18cade944",
       "version_major": 2,
       "version_minor": 0
      },
      "text/plain": [
       "Epoch 1::   0%|          | 0/173 [00:00<?, ?it/s]"
      ]
     },
     "metadata": {},
     "output_type": "display_data"
    },
    {
     "name": "stdout",
     "output_type": "stream",
     "text": [
      "Epoch \u001b[34m1\u001b[0m/10 : \u001b[34mTraining\u001b[0m : (\u001b[36mloss\u001b[0m 0.758544066737842) (\u001b[36macc\u001b[0m 0.6661699166187661)\n"
     ]
    },
    {
     "data": {
      "application/vnd.jupyter.widget-view+json": {
       "model_id": "7ea3dd1eba1c48c7890d14fa2c29ef2d",
       "version_major": 2,
       "version_minor": 0
      },
      "text/plain": [
       "validation::   0%|          | 0/15 [00:00<?, ?it/s]"
      ]
     },
     "metadata": {},
     "output_type": "display_data"
    },
    {
     "name": "stdout",
     "output_type": "stream",
     "text": [
      "\u001b[34mvalidation\u001b[0m : (\u001b[36mloss\u001b[0m 0.8120001276334127) (\u001b[36macc\u001b[0m 0.6251736124356587)\n"
     ]
    },
    {
     "data": {
      "application/vnd.jupyter.widget-view+json": {
       "model_id": "b7269a38ed7a4a8a8244de1735f2607c",
       "version_major": 2,
       "version_minor": 0
      },
      "text/plain": [
       "Epoch 2::   0%|          | 0/173 [00:00<?, ?it/s]"
      ]
     },
     "metadata": {},
     "output_type": "display_data"
    },
    {
     "name": "stdout",
     "output_type": "stream",
     "text": [
      "Epoch \u001b[34m2\u001b[0m/10 : \u001b[34mTraining\u001b[0m : (\u001b[36mloss\u001b[0m 0.7278653090399814) (\u001b[36macc\u001b[0m 0.6849635715429494)\n"
     ]
    },
    {
     "data": {
      "application/vnd.jupyter.widget-view+json": {
       "model_id": "1f29a17d1cc847ce8db98a0973914553",
       "version_major": 2,
       "version_minor": 0
      },
      "text/plain": [
       "validation::   0%|          | 0/15 [00:00<?, ?it/s]"
      ]
     },
     "metadata": {},
     "output_type": "display_data"
    },
    {
     "name": "stdout",
     "output_type": "stream",
     "text": [
      "\u001b[34mvalidation\u001b[0m : (\u001b[36mloss\u001b[0m 0.74965527455012) (\u001b[36macc\u001b[0m 0.6875868082046509)\n"
     ]
    },
    {
     "data": {
      "application/vnd.jupyter.widget-view+json": {
       "model_id": "3166900086a34383b626e02160259fb9",
       "version_major": 2,
       "version_minor": 0
      },
      "text/plain": [
       "Epoch 3::   0%|          | 0/173 [00:00<?, ?it/s]"
      ]
     },
     "metadata": {},
     "output_type": "display_data"
    },
    {
     "name": "stdout",
     "output_type": "stream",
     "text": [
      "Epoch \u001b[34m3\u001b[0m/10 : \u001b[34mTraining\u001b[0m : (\u001b[36mloss\u001b[0m 0.5798608290322255) (\u001b[36macc\u001b[0m 0.7847347686745528)\n"
     ]
    },
    {
     "data": {
      "application/vnd.jupyter.widget-view+json": {
       "model_id": "66984f5c83c844169c4303ba041187b4",
       "version_major": 2,
       "version_minor": 0
      },
      "text/plain": [
       "validation::   0%|          | 0/15 [00:00<?, ?it/s]"
      ]
     },
     "metadata": {},
     "output_type": "display_data"
    },
    {
     "name": "stdout",
     "output_type": "stream",
     "text": [
      "\u001b[34mvalidation\u001b[0m : (\u001b[36mloss\u001b[0m 0.5835395733515422) (\u001b[36macc\u001b[0m 0.7589409669240316)\n"
     ]
    },
    {
     "data": {
      "application/vnd.jupyter.widget-view+json": {
       "model_id": "393e2f645be042a38c2a092ea20c4ee0",
       "version_major": 2,
       "version_minor": 0
      },
      "text/plain": [
       "Epoch 4::   0%|          | 0/173 [00:00<?, ?it/s]"
      ]
     },
     "metadata": {},
     "output_type": "display_data"
    },
    {
     "name": "stdout",
     "output_type": "stream",
     "text": [
      "Epoch \u001b[34m4\u001b[0m/10 : \u001b[34mTraining\u001b[0m : (\u001b[36mloss\u001b[0m 0.5089281425310698) (\u001b[36macc\u001b[0m 0.8124021543243717)\n"
     ]
    },
    {
     "data": {
      "application/vnd.jupyter.widget-view+json": {
       "model_id": "021a182cc7334ae2bf6841135d69c195",
       "version_major": 2,
       "version_minor": 0
      },
      "text/plain": [
       "validation::   0%|          | 0/15 [00:00<?, ?it/s]"
      ]
     },
     "metadata": {},
     "output_type": "display_data"
    },
    {
     "name": "stdout",
     "output_type": "stream",
     "text": [
      "\u001b[34mvalidation\u001b[0m : (\u001b[36mloss\u001b[0m 0.5573261777559916) (\u001b[36macc\u001b[0m 0.7677083333333333)\n"
     ]
    },
    {
     "data": {
      "application/vnd.jupyter.widget-view+json": {
       "model_id": "a46a20b412524fc9a1fc8dcf5781adf1",
       "version_major": 2,
       "version_minor": 0
      },
      "text/plain": [
       "Epoch 5::   0%|          | 0/173 [00:00<?, ?it/s]"
      ]
     },
     "metadata": {},
     "output_type": "display_data"
    },
    {
     "name": "stdout",
     "output_type": "stream",
     "text": [
      "Epoch \u001b[34m5\u001b[0m/10 : \u001b[34mTraining\u001b[0m : (\u001b[36mloss\u001b[0m 0.49175278851062576) (\u001b[36macc\u001b[0m 0.8164363565472509)\n"
     ]
    },
    {
     "data": {
      "application/vnd.jupyter.widget-view+json": {
       "model_id": "d5794743333241fe8e21b3ec94dba0a9",
       "version_major": 2,
       "version_minor": 0
      },
      "text/plain": [
       "validation::   0%|          | 0/15 [00:00<?, ?it/s]"
      ]
     },
     "metadata": {},
     "output_type": "display_data"
    },
    {
     "name": "stdout",
     "output_type": "stream",
     "text": [
      "\u001b[34mvalidation\u001b[0m : (\u001b[36mloss\u001b[0m 0.5489070375760396) (\u001b[36macc\u001b[0m 0.7706597248713175)\n"
     ]
    },
    {
     "data": {
      "application/vnd.jupyter.widget-view+json": {
       "model_id": "31dba4571fc34f99bd24f8adb496003b",
       "version_major": 2,
       "version_minor": 0
      },
      "text/plain": [
       "Epoch 6::   0%|          | 0/173 [00:00<?, ?it/s]"
      ]
     },
     "metadata": {},
     "output_type": "display_data"
    },
    {
     "name": "stdout",
     "output_type": "stream",
     "text": [
      "Epoch \u001b[34m6\u001b[0m/10 : \u001b[34mTraining\u001b[0m : (\u001b[36mloss\u001b[0m 0.47866380421412474) (\u001b[36macc\u001b[0m 0.8193792156401397)\n"
     ]
    },
    {
     "data": {
      "application/vnd.jupyter.widget-view+json": {
       "model_id": "c5d981ebc7c645ae88c953a4db42301b",
       "version_major": 2,
       "version_minor": 0
      },
      "text/plain": [
       "validation::   0%|          | 0/15 [00:00<?, ?it/s]"
      ]
     },
     "metadata": {},
     "output_type": "display_data"
    },
    {
     "name": "stdout",
     "output_type": "stream",
     "text": [
      "\u001b[34mvalidation\u001b[0m : (\u001b[36mloss\u001b[0m 0.52357919216156) (\u001b[36macc\u001b[0m 0.7787326455116272)\n"
     ]
    },
    {
     "data": {
      "application/vnd.jupyter.widget-view+json": {
       "model_id": "3238eb0613cb4fedad101e1890f7d772",
       "version_major": 2,
       "version_minor": 0
      },
      "text/plain": [
       "Epoch 7::   0%|          | 0/173 [00:00<?, ?it/s]"
      ]
     },
     "metadata": {},
     "output_type": "display_data"
    },
    {
     "name": "stdout",
     "output_type": "stream",
     "text": [
      "Epoch \u001b[34m7\u001b[0m/10 : \u001b[34mTraining\u001b[0m : (\u001b[36mloss\u001b[0m 0.46228270982042213) (\u001b[36macc\u001b[0m 0.8231575120391185)\n"
     ]
    },
    {
     "data": {
      "application/vnd.jupyter.widget-view+json": {
       "model_id": "9f00091ced174b83a5c7fa066c687f9a",
       "version_major": 2,
       "version_minor": 0
      },
      "text/plain": [
       "validation::   0%|          | 0/15 [00:00<?, ?it/s]"
      ]
     },
     "metadata": {},
     "output_type": "display_data"
    },
    {
     "name": "stdout",
     "output_type": "stream",
     "text": [
      "\u001b[34mvalidation\u001b[0m : (\u001b[36mloss\u001b[0m 0.489817080895106) (\u001b[36macc\u001b[0m 0.7928819457689921)\n"
     ]
    },
    {
     "data": {
      "application/vnd.jupyter.widget-view+json": {
       "model_id": "9f2f006e7c754aa397733f488e307808",
       "version_major": 2,
       "version_minor": 0
      },
      "text/plain": [
       "Epoch 8::   0%|          | 0/173 [00:00<?, ?it/s]"
      ]
     },
     "metadata": {},
     "output_type": "display_data"
    },
    {
     "name": "stdout",
     "output_type": "stream",
     "text": [
      "Epoch \u001b[34m8\u001b[0m/10 : \u001b[34mTraining\u001b[0m : (\u001b[36mloss\u001b[0m 0.4451792135059489) (\u001b[36macc\u001b[0m 0.8298109349487834)\n"
     ]
    },
    {
     "data": {
      "application/vnd.jupyter.widget-view+json": {
       "model_id": "7fb9dd19ddd843aa933b1e0571999ab3",
       "version_major": 2,
       "version_minor": 0
      },
      "text/plain": [
       "validation::   0%|          | 0/15 [00:00<?, ?it/s]"
      ]
     },
     "metadata": {},
     "output_type": "display_data"
    },
    {
     "name": "stdout",
     "output_type": "stream",
     "text": [
      "\u001b[34mvalidation\u001b[0m : (\u001b[36mloss\u001b[0m 0.47515952785809834) (\u001b[36macc\u001b[0m 0.8013020873069763)\n"
     ]
    },
    {
     "data": {
      "application/vnd.jupyter.widget-view+json": {
       "model_id": "10f6231e80494e90b38ecce1847ed4a5",
       "version_major": 2,
       "version_minor": 0
      },
      "text/plain": [
       "Epoch 9::   0%|          | 0/173 [00:00<?, ?it/s]"
      ]
     },
     "metadata": {},
     "output_type": "display_data"
    },
    {
     "name": "stdout",
     "output_type": "stream",
     "text": [
      "Epoch \u001b[34m9\u001b[0m/10 : \u001b[34mTraining\u001b[0m : (\u001b[36mloss\u001b[0m 0.4325725713561725) (\u001b[36macc\u001b[0m 0.8341913526457858)\n"
     ]
    },
    {
     "data": {
      "application/vnd.jupyter.widget-view+json": {
       "model_id": "b7859eaaf00e47f28ebb5f3c2b048012",
       "version_major": 2,
       "version_minor": 0
      },
      "text/plain": [
       "validation::   0%|          | 0/15 [00:00<?, ?it/s]"
      ]
     },
     "metadata": {},
     "output_type": "display_data"
    },
    {
     "name": "stdout",
     "output_type": "stream",
     "text": [
      "\u001b[34mvalidation\u001b[0m : (\u001b[36mloss\u001b[0m 0.47294171849886574) (\u001b[36macc\u001b[0m 0.8006076415379842)\n"
     ]
    }
   ],
   "source": [
    "args.update({'max_eps': 10, 'lr': 0.001, 'device': 'cpu', 'cuda': -1, 'seq_len':12, 'num_class': 5})\n",
    "\n",
    "# Instantiate model with pre-trained fasttext vectors\n",
    "# Here we set the dimension to 50 to make it faster and we only consider a small conversation length (12)\n",
    "model = BiLSTM(pretrained_vectors.vectors, args['num_class'], args, dimension=50, freeze_embeddings = True )\n",
    "loss_list_val = run_epochs(model, args)"
   ]
  },
  {
   "cell_type": "code",
   "execution_count": 394,
   "id": "4bf1d9bb",
   "metadata": {},
   "outputs": [
    {
     "data": {
      "image/png": "[encoded data removed]",
      "text/plain": [
       "<Figure size 640x480 with 1 Axes>"
      ]
     },
     "metadata": {},
     "output_type": "display_data"
    }
   ],
   "source": [
    "plot_loss(loss_list_val)"
   ]
  },
  {
   "cell_type": "code",
   "execution_count": 395,
   "id": "dc15ccb9",
   "metadata": {},
   "outputs": [
    {
     "data": {
      "application/vnd.jupyter.widget-view+json": {
       "model_id": "8a559122df6641b5975720b72726e5d8",
       "version_major": 2,
       "version_minor": 0
      },
      "text/plain": [
       "test::   0%|          | 0/15 [00:00<?, ?it/s]"
      ]
     },
     "metadata": {},
     "output_type": "display_data"
    },
    {
     "name": "stdout",
     "output_type": "stream",
     "text": [
      "\u001b[34mtest\u001b[0m : (\u001b[36mloss\u001b[0m 0.4128587365150452) (\u001b[36macc\u001b[0m 0.8378472169240315)\n",
      "              precision    recall  f1-score   support\n",
      "\n",
      "      inform       0.70      0.95      0.80      3271\n",
      "    question       0.86      0.88      0.87      1985\n",
      "   directive       0.62      0.27      0.37      1176\n",
      "  commissive       0.65      0.12      0.20       681\n",
      "\n",
      "   micro avg       0.74      0.74      0.74      7113\n",
      "   macro avg       0.71      0.55      0.56      7113\n",
      "weighted avg       0.72      0.74      0.69      7113\n",
      "\n"
     ]
    }
   ],
   "source": [
    "from sklearn.metrics import classification_report, confusion_matrix, roc_curve, auc, RocCurveDisplay \n",
    "trues, preds, loss_it_avg, acc_it_avg, loss_it, acc_it = inference(\"test\", test_loader, model)\n",
    "names = ['__dummy__', 'inform', 'question', 'directive', 'commissive']\n",
    "names.remove('__dummy__') # dummy label is not interesting\n",
    "print(classification_report(np.array(trues).flatten(), np.array(preds).flatten(), target_names=names, labels=[1, 2, 3, 4]))"
   ]
  },
  {
   "cell_type": "code",
   "execution_count": 451,
   "id": "17695e34",
   "metadata": {},
   "outputs": [
    {
     "name": "stdout",
     "output_type": "stream",
     "text": [
      "0.296875\n"
     ]
    }
   ],
   "source": [
    "total=0\n",
    "good=0\n",
    "for t, p in zip(trues, preds):\n",
    "    for i in range(len(trues)) :\n",
    "        if trues[i] != 0 :\n",
    "            total+=1\n",
    "            if trues[i]==preds[i] :\n",
    "                good+=1\n",
    "print(good/total)"
   ]
  }
 ],
 "metadata": {
  "kernelspec": {
   "display_name": "Python 3 (ipykernel)",
   "language": "python",
   "name": "python3"
  },
  "language_info": {
   "codemirror_mode": {
    "name": "ipython",
    "version": 3
   },
   "file_extension": ".py",
   "mimetype": "text/x-python",
   "name": "python",
   "nbconvert_exporter": "python",
   "pygments_lexer": "ipython3",
   "version": "3.10.9"
  }
 },
 "nbformat": 4,
 "nbformat_minor": 5
}
